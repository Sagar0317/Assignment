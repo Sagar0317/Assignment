{
 "cells": [
  {
   "cell_type": "markdown",
   "id": "b03dd6bc-e491-4ba7-85a8-0573ce9d64f9",
   "metadata": {},
   "source": [
    "1 - Explain with an example each when to use a for loop and a while loop"
   ]
  },
  {
   "cell_type": "raw",
   "id": "3703119a-487f-48a3-bc14-6fafbde098da",
   "metadata": {},
   "source": [
    "For loops and while loops are two fundamental looping structures in programming. Both loops can be used to repeat a set of instructions until a certain condition is met. However, there are certain situations when one type of loop may be more suitable than the other.\n",
    "\n",
    "For loop:\n",
    "A for loop is used when we know in advance how many times we want to repeat a block of code. The syntax of a for loop typically includes an initialization statement, a condition statement, and an update statement.\n",
    "\n",
    "Example:\n",
    "Suppose we want to print the 1 to 10 positive integers. We can use a for loop to achieve this as follows:"
   ]
  },
  {
   "cell_type": "code",
   "execution_count": 1,
   "id": "730de456-34ef-42ad-9c1e-3aec69dba03d",
   "metadata": {},
   "outputs": [
    {
     "name": "stdout",
     "output_type": "stream",
     "text": [
      "0\n",
      "1\n",
      "2\n",
      "3\n",
      "4\n",
      "5\n",
      "6\n",
      "7\n",
      "8\n",
      "9\n",
      "10\n"
     ]
    }
   ],
   "source": [
    "for i in range(11):\n",
    "    print(i)"
   ]
  },
  {
   "cell_type": "raw",
   "id": "412df72d-df28-4d05-be12-bf3c609add3e",
   "metadata": {},
   "source": [
    "Here, the for loop initializes a counter variable i to 1, checks if i is less than or equal to 10, and then increments i by 1 after each iteration. The loop continues to execute as long as the condition i <= 10 is true."
   ]
  },
  {
   "cell_type": "raw",
   "id": "fb343c75-b600-4036-b41a-5e0dbc08f849",
   "metadata": {},
   "source": [
    "While loop:\n",
    "A while loop is used when we don't know in advance how many times we want to repeat a block of code. The loop will continue to execute until a certain condition is no longer true."
   ]
  },
  {
   "cell_type": "code",
   "execution_count": 3,
   "id": "9785d573-8b2c-46e5-9425-42adab17c6ab",
   "metadata": {},
   "outputs": [
    {
     "name": "stdout",
     "output_type": "stream",
     "text": [
      "0\n",
      "1\n",
      "2\n",
      "3\n",
      "4\n",
      "5\n",
      "6\n",
      "7\n",
      "8\n",
      "9\n",
      "10\n"
     ]
    }
   ],
   "source": [
    "i = 0\n",
    "while i <= 10:\n",
    "    print(i)\n",
    "    i = i + 1"
   ]
  },
  {
   "cell_type": "raw",
   "id": "64fdbc66-e46e-4070-8eb2-449e9c0a8585",
   "metadata": {},
   "source": [
    "The while statement simply loops until a condition is False."
   ]
  },
  {
   "cell_type": "markdown",
   "id": "5823ece5-848d-48c8-aee7-33f74654eb30",
   "metadata": {},
   "source": [
    "2 -  Write a python program to print the sum and product of the first 10 natural numbers using for \n",
    "and while loop."
   ]
  },
  {
   "cell_type": "raw",
   "id": "a3c57b1c-f2fa-4967-ae41-87d8a7d835bb",
   "metadata": {},
   "source": [
    "Using a for loop:"
   ]
  },
  {
   "cell_type": "code",
   "execution_count": 9,
   "id": "3f66419f-5cd1-414a-9068-e83f737f1569",
   "metadata": {},
   "outputs": [
    {
     "name": "stdout",
     "output_type": "stream",
     "text": [
      "Sum: 55\n",
      "Product: 3628800\n"
     ]
    }
   ],
   "source": [
    "# Sum of the first 10 natural numbers using for loop\n",
    "sum = 0\n",
    "for i in range(1, 11):\n",
    "    sum += i\n",
    "print(\"Sum:\", sum)\n",
    "\n",
    "# Product of the first 10 natural numbers using for loop\n",
    "product = 1\n",
    "for i in range(1, 11):\n",
    "    product *= i\n",
    "print(\"Product:\", product)\n"
   ]
  },
  {
   "cell_type": "raw",
   "id": "bda5877b-d3d6-43c1-b17e-c2b2fb68bd93",
   "metadata": {},
   "source": [
    "Using a while loop:"
   ]
  },
  {
   "cell_type": "code",
   "execution_count": 10,
   "id": "99cb3d3a-4fa4-4453-b2e1-bfba001f503a",
   "metadata": {},
   "outputs": [
    {
     "name": "stdout",
     "output_type": "stream",
     "text": [
      "Sum: 55\n",
      "Product: 3628800\n"
     ]
    }
   ],
   "source": [
    "# Sum of the first 10 natural numbers using while loop\n",
    "sum = 0\n",
    "i = 1\n",
    "while i <= 10:\n",
    "    sum += i\n",
    "    i += 1\n",
    "print(\"Sum:\", sum)\n",
    "\n",
    "# Product of the first 10 natural numbers using while loop\n",
    "product = 1\n",
    "i = 1\n",
    "while i <= 10:\n",
    "    product *= i\n",
    "    i += 1\n",
    "print(\"Product:\", product)\n"
   ]
  },
  {
   "cell_type": "markdown",
   "id": "c4ebc799-bf1e-4db6-8965-8218961a3182",
   "metadata": {},
   "source": [
    "3 -units = int(input(\"Enter the number of units consumed: \"))\n",
    "bill = 0\n",
    "\n",
    "if units <= 100:\n",
    "    bill = units * 4.5\n",
    "elif units <= 200:\n",
    "    bill = 100 * 4.5 + (units - 100) * 6\n",
    "elif units <= 300:\n",
    "    bill = 100 * 4.5 + 100 * 6 + (units - 200) * 10\n",
    "else:\n",
    "    bill = 100 * 4.5 + 100 * 6 + 100 * 10 + (units - 300) * 20\n",
    "\n",
    "print(\"Total bill: Rs.\", bill)\n"
   ]
  },
  {
   "cell_type": "code",
   "execution_count": 13,
   "id": "222c8a25-2256-4ca8-b563-f2939c95eb9a",
   "metadata": {},
   "outputs": [
    {
     "name": "stdin",
     "output_type": "stream",
     "text": [
      "Enter the number of units consumed:  317\n"
     ]
    },
    {
     "name": "stdout",
     "output_type": "stream",
     "text": [
      "Total bill: Rs. 2390.0\n"
     ]
    }
   ],
   "source": [
    "units = int(input(\"Enter the number of units consumed: \"))\n",
    "bill = 0\n",
    "\n",
    "if units <= 100:\n",
    "    bill = units * 4.5\n",
    "elif units <= 200:\n",
    "    bill = 100 * 4.5 + (units - 100) * 6\n",
    "elif units <= 300:\n",
    "    bill = 100 * 4.5 + 100 * 6 + (units - 200) * 10\n",
    "else:\n",
    "    bill = 100 * 4.5 + 100 * 6 + 100 * 10 + (units - 300) * 20\n",
    "\n",
    "print(\"Total bill: Rs.\", bill)\n"
   ]
  },
  {
   "cell_type": "markdown",
   "id": "44eb78e2-6252-4460-a4e9-b45c2a8570ce",
   "metadata": {},
   "source": [
    "4 - Create a list of numbers from 1 to 100. Use for loop and while loop to calculate the cube of each \n",
    "number and if the cube of that number is divisible by 4 or 5 then append that number in a list and print \n",
    "that list"
   ]
  },
  {
   "cell_type": "raw",
   "id": "7a1a13c1-6c5d-4ad0-91fe-c9a8376c5238",
   "metadata": {},
   "source": [
    "Using a for loop:"
   ]
  },
  {
   "cell_type": "code",
   "execution_count": 14,
   "id": "c3118ef7-fb2c-47a7-bb6f-7169fd38db06",
   "metadata": {},
   "outputs": [
    {
     "name": "stdout",
     "output_type": "stream",
     "text": [
      "[2, 4, 5, 6, 8, 10, 12, 14, 15, 16, 18, 20, 22, 24, 25, 26, 28, 30, 32, 34, 35, 36, 38, 40, 42, 44, 45, 46, 48, 50, 52, 54, 55, 56, 58, 60, 62, 64, 65, 66, 68, 70, 72, 74, 75, 76, 78, 80, 82, 84, 85, 86, 88, 90, 92, 94, 95, 96, 98, 100]\n"
     ]
    }
   ],
   "source": [
    "# Using a for loop\n",
    "cubes = []\n",
    "for i in range(1, 101):\n",
    "    cube = i ** 3\n",
    "    if cube % 4 == 0 or cube % 5 == 0:\n",
    "        cubes.append(i)\n",
    "print(cubes)\n"
   ]
  },
  {
   "cell_type": "raw",
   "id": "4ec09a78-31c7-45b9-8791-dba90334eb14",
   "metadata": {},
   "source": [
    "Using a while loop:"
   ]
  },
  {
   "cell_type": "code",
   "execution_count": 15,
   "id": "9a41117e-c8e1-4f01-93f1-82fa15a5952e",
   "metadata": {},
   "outputs": [
    {
     "name": "stdout",
     "output_type": "stream",
     "text": [
      "[2, 4, 5, 6, 8, 10, 12, 14, 15, 16, 18, 20, 22, 24, 25, 26, 28, 30, 32, 34, 35, 36, 38, 40, 42, 44, 45, 46, 48, 50, 52, 54, 55, 56, 58, 60, 62, 64, 65, 66, 68, 70, 72, 74, 75, 76, 78, 80, 82, 84, 85, 86, 88, 90, 92, 94, 95, 96, 98, 100]\n"
     ]
    }
   ],
   "source": [
    "# Using a while loop\n",
    "cubes = []\n",
    "i = 1\n",
    "while i <= 100:\n",
    "    cube = i ** 3\n",
    "    if cube % 4 == 0 or cube % 5 == 0:\n",
    "        cubes.append(i)\n",
    "    i += 1\n",
    "print(cubes)\n"
   ]
  },
  {
   "cell_type": "markdown",
   "id": "c1f8f5c5-1ed2-4a25-8c32-4d42b497d2a3",
   "metadata": {},
   "source": [
    "5 -  Write a program to filter count vowels in the below-given string.\n",
    "\n",
    "string = \"I want to become a data scientist\""
   ]
  },
  {
   "cell_type": "code",
   "execution_count": 16,
   "id": "d1200137-be42-48b4-8825-615a63ede97d",
   "metadata": {},
   "outputs": [
    {
     "name": "stdout",
     "output_type": "stream",
     "text": [
      "The number of vowels in the given string is: 12\n"
     ]
    }
   ],
   "source": [
    "string = \"I want to become a data scientist\"\n",
    "\n",
    "# initialize a counter variable to zero\n",
    "vowel_count = 0\n",
    "\n",
    "# loop through each character in the string\n",
    "for char in string:\n",
    "    # check if the character is a vowel\n",
    "    if char in \"aeiouAEIOU\":\n",
    "        # if it is, increment the counter\n",
    "        vowel_count += 1\n",
    "\n",
    "# print the number of vowels found in the string\n",
    "print(\"The number of vowels in the given string is:\", vowel_count)\n"
   ]
  },
  {
   "cell_type": "code",
   "execution_count": null,
   "id": "4101e038-2bef-4022-8fb2-7561b3a5a12f",
   "metadata": {},
   "outputs": [],
   "source": []
  },
  {
   "cell_type": "code",
   "execution_count": null,
   "id": "040f874e-8671-48fc-8646-c22c954a3485",
   "metadata": {},
   "outputs": [],
   "source": []
  }
 ],
 "metadata": {
  "kernelspec": {
   "display_name": "Python 3 (ipykernel)",
   "language": "python",
   "name": "python3"
  },
  "language_info": {
   "codemirror_mode": {
    "name": "ipython",
    "version": 3
   },
   "file_extension": ".py",
   "mimetype": "text/x-python",
   "name": "python",
   "nbconvert_exporter": "python",
   "pygments_lexer": "ipython3",
   "version": "3.10.8"
  }
 },
 "nbformat": 4,
 "nbformat_minor": 5
}
