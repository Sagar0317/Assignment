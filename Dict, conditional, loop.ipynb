{
 "cells": [
  {
   "cell_type": "code",
   "execution_count": null,
   "id": "04f2571f-3526-448e-8e7e-8098c87b7d4f",
   "metadata": {},
   "outputs": [],
   "source": [
    "# Dict -- Dict is mutable"
   ]
  },
  {
   "cell_type": "code",
   "execution_count": 1,
   "id": "2251e9af-dd62-4539-94bc-c21258c68269",
   "metadata": {},
   "outputs": [],
   "source": [
    "d = {}"
   ]
  },
  {
   "cell_type": "code",
   "execution_count": 2,
   "id": "bb136056-923b-4255-8181-e7becf19e818",
   "metadata": {},
   "outputs": [
    {
     "data": {
      "text/plain": [
       "dict"
      ]
     },
     "execution_count": 2,
     "metadata": {},
     "output_type": "execute_result"
    }
   ],
   "source": [
    "type(d)"
   ]
  },
  {
   "cell_type": "code",
   "execution_count": 3,
   "id": "8edad54d-6d6e-4439-9e97-70694d160acb",
   "metadata": {},
   "outputs": [],
   "source": [
    "d1 = {'key': 'Sagar'}  # Key should always be unique"
   ]
  },
  {
   "cell_type": "code",
   "execution_count": 4,
   "id": "78b5fbb2-8db7-4239-abde-e89e99edef50",
   "metadata": {},
   "outputs": [
    {
     "data": {
      "text/plain": [
       "{'key': 'Sagar'}"
      ]
     },
     "execution_count": 4,
     "metadata": {},
     "output_type": "execute_result"
    }
   ],
   "source": [
    "d1"
   ]
  },
  {
   "cell_type": "code",
   "execution_count": 6,
   "id": "9ca09736-e331-4822-8983-c9583ebcdd4d",
   "metadata": {},
   "outputs": [],
   "source": [
    "d2 = {'name': \"Sagar\", 'email': \"sagarshelar2001@gmail.com\", 'number': 8108417387}"
   ]
  },
  {
   "cell_type": "code",
   "execution_count": 7,
   "id": "f5a561f4-9597-4e83-a6af-128343cc626d",
   "metadata": {},
   "outputs": [
    {
     "data": {
      "text/plain": [
       "{'name': 'Sagar', 'email': 'sagarshelar2001@gmail.com', 'number': 8108417387}"
      ]
     },
     "execution_count": 7,
     "metadata": {},
     "output_type": "execute_result"
    }
   ],
   "source": [
    "d2"
   ]
  },
  {
   "cell_type": "code",
   "execution_count": 9,
   "id": "2e4db9cd-fc29-455d-b921-888ba61abae6",
   "metadata": {},
   "outputs": [],
   "source": [
    "d3 = {123 : \"Sagar\"}"
   ]
  },
  {
   "cell_type": "code",
   "execution_count": 10,
   "id": "a2cbe0cb-da7f-44d6-b908-0e20c2059ca5",
   "metadata": {},
   "outputs": [
    {
     "data": {
      "text/plain": [
       "{123: 'Sagar'}"
      ]
     },
     "execution_count": 10,
     "metadata": {},
     "output_type": "execute_result"
    }
   ],
   "source": [
    "d3"
   ]
  },
  {
   "cell_type": "code",
   "execution_count": 17,
   "id": "e84b4cda-a55b-4991-b575-a71cc255f06b",
   "metadata": {},
   "outputs": [],
   "source": [
    "#d3 = {123 : \"Sagar\", @ew : 'Shelar', _we : 734}"
   ]
  },
  {
   "cell_type": "code",
   "execution_count": 18,
   "id": "f3891e8e-b64a-4103-83a1-1240b982e92d",
   "metadata": {},
   "outputs": [],
   "source": [
    "d3 = {123 : \"Sagar\", '@ew' : 'Shelar', '_we' : 734, True: 29394}"
   ]
  },
  {
   "cell_type": "code",
   "execution_count": 19,
   "id": "bc5429cf-1d4e-48ef-8197-28ed2e2e89e7",
   "metadata": {},
   "outputs": [
    {
     "data": {
      "text/plain": [
       "{123: 'Sagar', '@ew': 'Shelar', '_we': 734, True: 29394}"
      ]
     },
     "execution_count": 19,
     "metadata": {},
     "output_type": "execute_result"
    }
   ],
   "source": [
    "d3"
   ]
  },
  {
   "cell_type": "code",
   "execution_count": 20,
   "id": "f9f39e2b-b9ba-43f3-be18-7172d10918aa",
   "metadata": {},
   "outputs": [
    {
     "data": {
      "text/plain": [
       "'Sa'"
      ]
     },
     "execution_count": 20,
     "metadata": {},
     "output_type": "execute_result"
    }
   ],
   "source": [
    "d3[123][0:2]"
   ]
  },
  {
   "cell_type": "code",
   "execution_count": 21,
   "id": "37eee401-b890-4082-bae4-ff3a2b25f298",
   "metadata": {},
   "outputs": [
    {
     "data": {
      "text/plain": [
       "29394"
      ]
     },
     "execution_count": 21,
     "metadata": {},
     "output_type": "execute_result"
    }
   ],
   "source": [
    "d3[True]"
   ]
  },
  {
   "cell_type": "code",
   "execution_count": 23,
   "id": "2bb25f91-8f3f-4a95-b1e8-76f42afb1920",
   "metadata": {},
   "outputs": [
    {
     "data": {
      "text/plain": [
       "29394"
      ]
     },
     "execution_count": 23,
     "metadata": {},
     "output_type": "execute_result"
    }
   ],
   "source": [
    "d3[1]  # Internaly true is stored as 1"
   ]
  },
  {
   "cell_type": "code",
   "execution_count": 27,
   "id": "ade8bbcf-b53e-41a5-a7ee-02728ef56340",
   "metadata": {},
   "outputs": [],
   "source": [
    "d4 = {'name':\"Sagar\", 'email': \"sagarshelar2001@gmail.com\", 'name': \"Pranali\"}  # If the key is not unique then it will be overwrite by the last value"
   ]
  },
  {
   "cell_type": "code",
   "execution_count": 25,
   "id": "b3208b2a-7b8f-4654-88e6-5b83054ec664",
   "metadata": {},
   "outputs": [
    {
     "data": {
      "text/plain": [
       "{'name': 'Pranali', 'email': 'sagarshelar2001@gmail.com'}"
      ]
     },
     "execution_count": 25,
     "metadata": {},
     "output_type": "execute_result"
    }
   ],
   "source": [
    "d4"
   ]
  },
  {
   "cell_type": "code",
   "execution_count": 26,
   "id": "63f42a35-6c11-404b-8060-b49a80b2ac6c",
   "metadata": {},
   "outputs": [
    {
     "data": {
      "text/plain": [
       "'Pranali'"
      ]
     },
     "execution_count": 26,
     "metadata": {},
     "output_type": "execute_result"
    }
   ],
   "source": [
    "d4['name']"
   ]
  },
  {
   "cell_type": "code",
   "execution_count": 28,
   "id": "e6bdb59b-056d-49d9-9f61-4debbb34e895",
   "metadata": {},
   "outputs": [],
   "source": [
    "d5 = {'company': 'pwskills', 'course': ['web dev', 'data science', 'java with dsa system design']}"
   ]
  },
  {
   "cell_type": "code",
   "execution_count": 29,
   "id": "b76c5d83-de24-46a0-8c1d-00f0cee00624",
   "metadata": {},
   "outputs": [
    {
     "data": {
      "text/plain": [
       "{'company': 'pwskills',\n",
       " 'course': ['web dev', 'data science', 'java with dsa system design']}"
      ]
     },
     "execution_count": 29,
     "metadata": {},
     "output_type": "execute_result"
    }
   ],
   "source": [
    "d5"
   ]
  },
  {
   "cell_type": "code",
   "execution_count": 30,
   "id": "eab31e51-db39-4e5d-b695-cdf3d79c9a88",
   "metadata": {},
   "outputs": [
    {
     "data": {
      "text/plain": [
       "['web dev', 'data science', 'java with dsa system design']"
      ]
     },
     "execution_count": 30,
     "metadata": {},
     "output_type": "execute_result"
    }
   ],
   "source": [
    "d5['course']"
   ]
  },
  {
   "cell_type": "code",
   "execution_count": 31,
   "id": "df2add37-f077-4776-bbf2-680f2227efdd",
   "metadata": {},
   "outputs": [
    {
     "data": {
      "text/plain": [
       "'java with dsa system design'"
      ]
     },
     "execution_count": 31,
     "metadata": {},
     "output_type": "execute_result"
    }
   ],
   "source": [
    "d5['course'][-1]"
   ]
  },
  {
   "cell_type": "code",
   "execution_count": 40,
   "id": "2ee67e8c-e482-465e-84fa-eb3c2af7b27b",
   "metadata": {},
   "outputs": [],
   "source": [
    "d6 = {\"number\": [2, 32, 34, 543, 54, 75], \"assignment\": (1,2,3,4,5,6), 'launch_data': {28, 12, 14}, 'class_time':{\"web_dev\": 8, 'java with dsa and system design':7, 'Data_Science':8}}  # AS a value you can take any collection like list, set, tuple"
   ]
  },
  {
   "cell_type": "code",
   "execution_count": 37,
   "id": "b785c948-e0a3-4a65-908c-edbf4e534c47",
   "metadata": {},
   "outputs": [
    {
     "data": {
      "text/plain": [
       "{'number': [2, 32, 34, 543, 54, 75],\n",
       " 'assignment': (1, 2, 3, 4, 5, 6),\n",
       " 'launch_data': {12, 14, 28},\n",
       " 'class_time': {'web_dev': 8,\n",
       "  'java with dsa and system design': 7,\n",
       "  'Data_Scienct': 8}}"
      ]
     },
     "execution_count": 37,
     "metadata": {},
     "output_type": "execute_result"
    }
   ],
   "source": [
    "d6"
   ]
  },
  {
   "cell_type": "code",
   "execution_count": 41,
   "id": "5bbfe7d0-f094-4b3e-863a-125f3057cb4a",
   "metadata": {},
   "outputs": [
    {
     "data": {
      "text/plain": [
       "8"
      ]
     },
     "execution_count": 41,
     "metadata": {},
     "output_type": "execute_result"
    }
   ],
   "source": [
    "d6['class_time']['Data_Science']"
   ]
  },
  {
   "cell_type": "code",
   "execution_count": 42,
   "id": "a310317d-694c-4086-8298-01896d16731d",
   "metadata": {},
   "outputs": [],
   "source": [
    "d6['mentor'] = ['sudhanshu', 'krish', 'anurag', 'hayder']"
   ]
  },
  {
   "cell_type": "code",
   "execution_count": 43,
   "id": "53306993-a789-4a19-a39e-0da8d35f40bb",
   "metadata": {},
   "outputs": [
    {
     "data": {
      "text/plain": [
       "{'number': [2, 32, 34, 543, 54, 75],\n",
       " 'assignment': (1, 2, 3, 4, 5, 6),\n",
       " 'launch_data': {12, 14, 28},\n",
       " 'class_time': {'web_dev': 8,\n",
       "  'java with dsa and system design': 7,\n",
       "  'Data_Science': 8},\n",
       " 'mentor': ['sudhanshu', 'krish', 'anurag', 'hayder']}"
      ]
     },
     "execution_count": 43,
     "metadata": {},
     "output_type": "execute_result"
    }
   ],
   "source": [
    "d6"
   ]
  },
  {
   "cell_type": "code",
   "execution_count": 44,
   "id": "3d2acffe-6eb9-4131-9255-702b6c001d37",
   "metadata": {},
   "outputs": [],
   "source": [
    "del d6['number']"
   ]
  },
  {
   "cell_type": "code",
   "execution_count": 45,
   "id": "8b215203-6551-458b-b613-5e81949960ef",
   "metadata": {},
   "outputs": [
    {
     "data": {
      "text/plain": [
       "{'assignment': (1, 2, 3, 4, 5, 6),\n",
       " 'launch_data': {12, 14, 28},\n",
       " 'class_time': {'web_dev': 8,\n",
       "  'java with dsa and system design': 7,\n",
       "  'Data_Science': 8},\n",
       " 'mentor': ['sudhanshu', 'krish', 'anurag', 'hayder']}"
      ]
     },
     "execution_count": 45,
     "metadata": {},
     "output_type": "execute_result"
    }
   ],
   "source": [
    "d6"
   ]
  },
  {
   "cell_type": "code",
   "execution_count": 46,
   "id": "a2f0eb37-30b9-4b96-874e-518a08ca908e",
   "metadata": {},
   "outputs": [
    {
     "data": {
      "text/plain": [
       "dict_keys(['assignment', 'launch_data', 'class_time', 'mentor'])"
      ]
     },
     "execution_count": 46,
     "metadata": {},
     "output_type": "execute_result"
    }
   ],
   "source": [
    "d6.keys()"
   ]
  },
  {
   "cell_type": "code",
   "execution_count": 47,
   "id": "31b886a5-6197-43b3-821d-50bf4d7ec912",
   "metadata": {},
   "outputs": [
    {
     "data": {
      "text/plain": [
       "['assignment', 'launch_data', 'class_time', 'mentor']"
      ]
     },
     "execution_count": 47,
     "metadata": {},
     "output_type": "execute_result"
    }
   ],
   "source": [
    "list(d6.keys())"
   ]
  },
  {
   "cell_type": "code",
   "execution_count": 48,
   "id": "4c01a111-4507-4465-b18b-f6153efe1143",
   "metadata": {},
   "outputs": [
    {
     "data": {
      "text/plain": [
       "dict_values([(1, 2, 3, 4, 5, 6), {28, 12, 14}, {'web_dev': 8, 'java with dsa and system design': 7, 'Data_Science': 8}, ['sudhanshu', 'krish', 'anurag', 'hayder']])"
      ]
     },
     "execution_count": 48,
     "metadata": {},
     "output_type": "execute_result"
    }
   ],
   "source": [
    "d6.values()"
   ]
  },
  {
   "cell_type": "code",
   "execution_count": 49,
   "id": "c6ce9b80-070a-4884-9c54-e04683ad84cb",
   "metadata": {},
   "outputs": [
    {
     "data": {
      "text/plain": [
       "[(1, 2, 3, 4, 5, 6),\n",
       " {12, 14, 28},\n",
       " {'web_dev': 8, 'java with dsa and system design': 7, 'Data_Science': 8},\n",
       " ['sudhanshu', 'krish', 'anurag', 'hayder']]"
      ]
     },
     "execution_count": 49,
     "metadata": {},
     "output_type": "execute_result"
    }
   ],
   "source": [
    "list(d6.values())"
   ]
  },
  {
   "cell_type": "code",
   "execution_count": 50,
   "id": "ebcf2ac4-0a0d-436a-8ab8-213b017f9c88",
   "metadata": {},
   "outputs": [
    {
     "data": {
      "text/plain": [
       "dict_items([('assignment', (1, 2, 3, 4, 5, 6)), ('launch_data', {28, 12, 14}), ('class_time', {'web_dev': 8, 'java with dsa and system design': 7, 'Data_Science': 8}), ('mentor', ['sudhanshu', 'krish', 'anurag', 'hayder'])])"
      ]
     },
     "execution_count": 50,
     "metadata": {},
     "output_type": "execute_result"
    }
   ],
   "source": [
    "d6.items()"
   ]
  },
  {
   "cell_type": "code",
   "execution_count": 51,
   "id": "b2995286-828d-4770-8e28-12c25766a1e6",
   "metadata": {},
   "outputs": [
    {
     "data": {
      "text/plain": [
       "[('assignment', (1, 2, 3, 4, 5, 6)),\n",
       " ('launch_data', {12, 14, 28}),\n",
       " ('class_time',\n",
       "  {'web_dev': 8, 'java with dsa and system design': 7, 'Data_Science': 8}),\n",
       " ('mentor', ['sudhanshu', 'krish', 'anurag', 'hayder'])]"
      ]
     },
     "execution_count": 51,
     "metadata": {},
     "output_type": "execute_result"
    }
   ],
   "source": [
    "list(d6.items())"
   ]
  },
  {
   "cell_type": "code",
   "execution_count": 52,
   "id": "62643e2e-80d0-4b4e-93ef-29450227bc57",
   "metadata": {},
   "outputs": [
    {
     "data": {
      "text/plain": [
       "(1, 2, 3, 4, 5, 6)"
      ]
     },
     "execution_count": 52,
     "metadata": {},
     "output_type": "execute_result"
    }
   ],
   "source": [
    "d6.pop('assignment')"
   ]
  },
  {
   "cell_type": "code",
   "execution_count": 53,
   "id": "ce74654b-3552-4187-9e5c-a48de9b5fb94",
   "metadata": {},
   "outputs": [
    {
     "data": {
      "text/plain": [
       "{'launch_data': {12, 14, 28},\n",
       " 'class_time': {'web_dev': 8,\n",
       "  'java with dsa and system design': 7,\n",
       "  'Data_Science': 8},\n",
       " 'mentor': ['sudhanshu', 'krish', 'anurag', 'hayder']}"
      ]
     },
     "execution_count": 53,
     "metadata": {},
     "output_type": "execute_result"
    }
   ],
   "source": [
    "d6"
   ]
  },
  {
   "cell_type": "code",
   "execution_count": 55,
   "id": "1dbe8cc2-b060-43d3-aa07-86cf07cf2a57",
   "metadata": {},
   "outputs": [],
   "source": [
    "#d6.pop()"
   ]
  },
  {
   "cell_type": "code",
   "execution_count": 58,
   "id": "45e1c6f5-c319-405c-bca7-b0beb772b9bb",
   "metadata": {},
   "outputs": [],
   "source": [
    "# Conditional Statement -- if, elif, else"
   ]
  },
  {
   "cell_type": "code",
   "execution_count": 62,
   "id": "b5013470-1dda-411f-a669-e6fe5a5f43aa",
   "metadata": {},
   "outputs": [
    {
     "name": "stdin",
     "output_type": "stream",
     "text": [
      "Enter your Marks:  94\n"
     ]
    },
    {
     "name": "stdout",
     "output_type": "stream",
     "text": [
      "You will be a part of A0 Batch\n"
     ]
    }
   ],
   "source": [
    "#marks = 65\n",
    "marks = int(input('Enter your Marks: '))\n",
    "\n",
    "if marks >= 80 :\n",
    "    print(\"You will be a part of A0 Batch\")\n",
    "elif marks >= 60 and marks <= 80 :\n",
    "    print(\"You will be a part of A1 Batch\")\n",
    "elif marks >= 40 and marks <= 60 :\n",
    "    print(\"You will be a part of A2 Batch\")\n",
    "else :\n",
    "    print(\"You will be a part of A3 Batch\")"
   ]
  },
  {
   "cell_type": "code",
   "execution_count": 65,
   "id": "db077f63-b994-4830-a84c-3dc5ed8690a9",
   "metadata": {},
   "outputs": [
    {
     "name": "stdin",
     "output_type": "stream",
     "text": [
      "Enter the price:  80000\n"
     ]
    },
    {
     "name": "stdout",
     "output_type": "stream",
     "text": [
      "I will not purchase\n"
     ]
    }
   ],
   "source": [
    "price = int(input(\"Enter the price: \"))\n",
    "\n",
    "if price > 1000 :\n",
    "    print(\"I will not purchase\")\n",
    "else:\n",
    "    print(\"I will purchase\")"
   ]
  },
  {
   "cell_type": "code",
   "execution_count": 70,
   "id": "a7f0a6d3-8d45-4453-98df-f9c46ad7b143",
   "metadata": {},
   "outputs": [
    {
     "name": "stdin",
     "output_type": "stream",
     "text": [
      "Enter the price:  800000\n"
     ]
    },
    {
     "name": "stdout",
     "output_type": "stream",
     "text": [
      "I will not purchase\n",
      "This is too much\n"
     ]
    }
   ],
   "source": [
    "price = int(input(\"Enter the price: \"))\n",
    "\n",
    "if price > 1000 :\n",
    "    print(\"I will not purchase\")\n",
    "    if price > 5000:\n",
    "        print(\"This is too much\")\n",
    "    elif price < 2000:\n",
    "        print(\"It's okay\")\n",
    "elif price < 1000:\n",
    "    print(\"I will Buy\")\n",
    "else:\n",
    "    print(\"Not Interested\")"
   ]
  },
  {
   "cell_type": "code",
   "execution_count": 71,
   "id": "0d5e9096-c063-4cc3-aec2-5589ed13eb70",
   "metadata": {},
   "outputs": [],
   "source": [
    "# Loop"
   ]
  },
  {
   "cell_type": "code",
   "execution_count": 72,
   "id": "1eebbabb-29f4-4d3a-89d4-b7a1d402897e",
   "metadata": {},
   "outputs": [],
   "source": [
    "l = [1,2,3,4,5,6,7,8,9,10,11,12,13,14]"
   ]
  },
  {
   "cell_type": "code",
   "execution_count": 77,
   "id": "8195b8ad-3b4b-41a6-8659-964dc915be18",
   "metadata": {},
   "outputs": [
    {
     "name": "stdout",
     "output_type": "stream",
     "text": [
      "2\n",
      "3\n",
      "4\n",
      "5\n",
      "6\n",
      "7\n",
      "8\n",
      "9\n",
      "10\n",
      "11\n",
      "12\n",
      "13\n",
      "14\n",
      "15\n"
     ]
    }
   ],
   "source": [
    "l1 = []\n",
    "for i in l:\n",
    "    print(i + 1)\n",
    "    l1.append(i + 1)"
   ]
  },
  {
   "cell_type": "code",
   "execution_count": 78,
   "id": "6a1779b7-b58f-43c9-9b8f-463c44f69523",
   "metadata": {},
   "outputs": [
    {
     "data": {
      "text/plain": [
       "[2, 3, 4, 5, 6, 7, 8, 9, 10, 11, 12, 13, 14, 15]"
      ]
     },
     "execution_count": 78,
     "metadata": {},
     "output_type": "execute_result"
    }
   ],
   "source": [
    "l1"
   ]
  },
  {
   "cell_type": "code",
   "execution_count": 79,
   "id": "f2e87f7e-0aa2-47d0-93ef-e71d6129fd0a",
   "metadata": {},
   "outputs": [],
   "source": [
    "l = [\"sagar\", \"data science\", \"azure\", \"web development\"]"
   ]
  },
  {
   "cell_type": "code",
   "execution_count": 82,
   "id": "b5f03680-1c71-4868-bd60-edc7b856e9b2",
   "metadata": {},
   "outputs": [
    {
     "name": "stdout",
     "output_type": "stream",
     "text": [
      "sagar\n",
      "data science\n",
      "azure\n",
      "web development\n"
     ]
    }
   ],
   "source": [
    "l2 = []\n",
    "for i in l:\n",
    "    print(i)\n",
    "    l2.append(i.upper())"
   ]
  },
  {
   "cell_type": "code",
   "execution_count": 83,
   "id": "a2060534-e2d0-418f-ab96-e0ec63928e27",
   "metadata": {},
   "outputs": [
    {
     "data": {
      "text/plain": [
       "['SAGAR', 'DATA SCIENCE', 'AZURE', 'WEB DEVELOPMENT']"
      ]
     },
     "execution_count": 83,
     "metadata": {},
     "output_type": "execute_result"
    }
   ],
   "source": [
    "l2"
   ]
  },
  {
   "cell_type": "code",
   "execution_count": 84,
   "id": "a1870238-9a90-41a8-aa08-f146bda59fbd",
   "metadata": {},
   "outputs": [],
   "source": [
    "l = [1,2,3,4,5, \"sagar\", \"shelar\", 384, 34.342, \"abc\"]"
   ]
  },
  {
   "cell_type": "code",
   "execution_count": 90,
   "id": "e4f208b5-00db-4504-bdbc-b4a9dc9131b3",
   "metadata": {},
   "outputs": [],
   "source": [
    "l1 = []\n",
    "s1 = []\n",
    "for i in l:\n",
    "    if type(i) == int or type(i) == float :\n",
    "        l1.append(i)\n",
    "    else:\n",
    "        s1.append(i)\n",
    "        "
   ]
  },
  {
   "cell_type": "code",
   "execution_count": 91,
   "id": "5cc2056a-5353-4fff-a94a-8d865c552f7e",
   "metadata": {},
   "outputs": [
    {
     "data": {
      "text/plain": [
       "[1, 2, 3, 4, 5, 384, 34.342]"
      ]
     },
     "execution_count": 91,
     "metadata": {},
     "output_type": "execute_result"
    }
   ],
   "source": [
    "l1"
   ]
  },
  {
   "cell_type": "code",
   "execution_count": 92,
   "id": "83c83735-9803-44f6-84c1-007a5b1b4cf4",
   "metadata": {},
   "outputs": [
    {
     "data": {
      "text/plain": [
       "['sagar', 'shelar', 'abc']"
      ]
     },
     "execution_count": 92,
     "metadata": {},
     "output_type": "execute_result"
    }
   ],
   "source": [
    "s1"
   ]
  },
  {
   "cell_type": "code",
   "execution_count": null,
   "id": "a071831c-991d-42b1-aba9-a4d4f1381bcd",
   "metadata": {},
   "outputs": [],
   "source": []
  }
 ],
 "metadata": {
  "kernelspec": {
   "display_name": "Python 3 (ipykernel)",
   "language": "python",
   "name": "python3"
  },
  "language_info": {
   "codemirror_mode": {
    "name": "ipython",
    "version": 3
   },
   "file_extension": ".py",
   "mimetype": "text/x-python",
   "name": "python",
   "nbconvert_exporter": "python",
   "pygments_lexer": "ipython3",
   "version": "3.10.8"
  }
 },
 "nbformat": 4,
 "nbformat_minor": 5
}
