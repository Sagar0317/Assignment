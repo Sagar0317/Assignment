{
 "cells": [
  {
   "cell_type": "markdown",
   "id": "7bcbef3b-2749-46a7-923b-9107da3973f3",
   "metadata": {},
   "source": [
    "28 Jan Assignment"
   ]
  },
  {
   "cell_type": "markdown",
   "id": "7ac9a841-7976-4a32-a6c2-6571328b09ae",
   "metadata": {},
   "source": [
    "1) Who developed Python Programming Language?"
   ]
  },
  {
   "cell_type": "raw",
   "id": "201de899-ca79-423d-85fe-6de4f5a28e7d",
   "metadata": {},
   "source": [
    "Guido van Rossum, a Dutch computer scientist, created Python in the late 1980s."
   ]
  },
  {
   "cell_type": "markdown",
   "id": "05a72a7e-e6a5-4572-a72b-c9b83c3ceab1",
   "metadata": {},
   "source": [
    "2. Which type of Programming does Python support?"
   ]
  },
  {
   "cell_type": "raw",
   "id": "0c792d8b-1239-4cf8-8940-284ed2725762",
   "metadata": {},
   "source": [
    "Python is a high-level, interpreted programming language that supports multiple programming paradigms,\n",
    "including:\n",
    "\n",
    "1 - Procedural programming\n",
    "2 - Object-oriented programming (OOP)\n",
    "3 - Functional programming\n",
    "4 - Aspect-oriented programming (AOP)\n",
    "5 - Concurrent programming\n",
    "\n",
    "Python's versatility and flexibility make it a popular choice for a wide range of applications,\n",
    "from web development and scientific computing to machine learning and data analysis."
   ]
  },
  {
   "cell_type": "markdown",
   "id": "5c52f105-d0b4-493a-88fa-528ea9092378",
   "metadata": {},
   "source": [
    "3. Is Python case sensitive when dealing with identifiers?"
   ]
  },
  {
   "cell_type": "raw",
   "id": "fcac02d4-a1c8-4601-a528-e60852f9d7b3",
   "metadata": {},
   "source": [
    "Yes, Python is case sensitive when dealing with identifiers such as variable names, function names, and class names.\n",
    "For example, the variable \"myVar\" is not the same as the variable \"myvar\" in Python. They are considered as two different variables.\n",
    "It is important to be consistent with the casing of your identifiers to avoid errors and confusion in your code."
   ]
  },
  {
   "cell_type": "markdown",
   "id": "1f3d4794-ce62-41c9-be4e-ced390de4431",
   "metadata": {},
   "source": [
    "4. What is the correct extension of the Python file?"
   ]
  },
  {
   "cell_type": "raw",
   "id": "a706cbb4-50de-41d6-89f7-c7306c28975b",
   "metadata": {},
   "source": [
    "The correct extension for a Python file is \".py\"."
   ]
  },
  {
   "cell_type": "markdown",
   "id": "b123394b-28a8-4d0b-8457-7dd5fbab483e",
   "metadata": {},
   "source": [
    "5. Is Python code compiled or interpreted?"
   ]
  },
  {
   "cell_type": "raw",
   "id": "f0de824b-4481-4dec-bff0-f7ca308f2d95",
   "metadata": {},
   "source": [
    "1- Python is an interpreted programming language. This means that instead of compiling code into machine language, Python code is executed line-by-line by a Python interpreter.\n",
    "2 - When you run a Python program, the interpreter reads the source code, parses it, compiles it into bytecode (which is not machine code but an intermediate language), and executes the bytecode. This allows for a more dynamic and flexible programming environment, where you can write, test, and debug code quickly without the need for a lengthy compilation process."
   ]
  },
  {
   "cell_type": "markdown",
   "id": "bcdce14c-f38a-4832-9f92-86f076301f95",
   "metadata": {},
   "source": [
    "6. Name a few blocks of code used to define in Python Language?"
   ]
  },
  {
   "cell_type": "raw",
   "id": "13bca29e-1cf0-422b-a7bd-e4b852829344",
   "metadata": {},
   "source": [
    "1 - Function definition block: A function definition in Python starts with the \"def\" keyword, followed by the function name, arguments in parentheses, and a colon. The code block that defines the function is indented.\n",
    "\n",
    "def my_function(arg1, arg2):\n",
    "    # Indented code block\n",
    "    print(arg1 + arg2)\n",
    "\n",
    "2 - Conditional block: Conditional statements in Python use the \"if\", \"elif\" (short for \"else if\"), and \"else\" keywords. The code block that executes when the condition is true is indented.\n",
    "\n",
    "if x > 0:\n",
    "    # Indented code block\n",
    "    print(\"x is positive\")\n",
    "elif x == 0:\n",
    "    # Indented code block\n",
    "    print(\"x is zero\")\n",
    "else:\n",
    "    # Indented code block\n",
    "    print(\"x is negative\")\n",
    "\n",
    "3 - Loop block: Loops in Python use the \"for\" and \"while\" keywords. The code block that is executed in each iteration of the loop is indented.\n",
    "\n",
    "# For loop\n",
    "for i in range(10):\n",
    "    # Indented code block\n",
    "    print(i)\n",
    "\n",
    "# While loop\n",
    "while x < 10:\n",
    "    # Indented code block\n",
    "    print(x)\n",
    "    x += 1\n"
   ]
  },
  {
   "cell_type": "markdown",
   "id": "9e4b20bc-8dac-440d-97cb-1a60dbce0b4b",
   "metadata": {},
   "source": [
    "7. State a character used to give single-line comments in Python?"
   ]
  },
  {
   "cell_type": "raw",
   "id": "9ad5b940-2e52-40e7-973b-87ca4a1decec",
   "metadata": {},
   "source": [
    "To indicate a single-line comment in Python, use the hash character (#)."
   ]
  },
  {
   "cell_type": "markdown",
   "id": "5ec89c5a-eb8b-406f-800c-732ae1b4fb8c",
   "metadata": {},
   "source": [
    "8. Mention functions which can help us to find the version of python that we are currently working on?"
   ]
  },
  {
   "cell_type": "raw",
   "id": "6b04dc3e-978b-4a27-9f44-37778560cf95",
   "metadata": {},
   "source": [
    "sys.version: This function returns the version of Python interpreter as a string. You can use this functionto print the version\n",
    "number of Python on your system.\n",
    "\n",
    "import sys\n",
    "print(sys.version)\n"
   ]
  },
  {
   "cell_type": "markdown",
   "id": "edb6e61a-b351-4956-b5ad-7fef0433f365",
   "metadata": {},
   "source": [
    "9. Python supports the creation of anonymous functions at runtime, using a construct called?"
   ]
  },
  {
   "cell_type": "raw",
   "id": "4ea41b27-1273-42f0-9f0d-59a9e243d27a",
   "metadata": {},
   "source": [
    "\"lambda\" functions."
   ]
  },
  {
   "cell_type": "markdown",
   "id": "d7664356-c7db-4a4f-a90f-d275fa4de5b0",
   "metadata": {},
   "source": [
    "10. What does pip stand for python?"
   ]
  },
  {
   "cell_type": "raw",
   "id": "1ef2f1c3-5d4d-4864-ac31-7709a1bfea6a",
   "metadata": {},
   "source": [
    "\"pip\" in Python stands for \"Pip Installs Packages.\""
   ]
  },
  {
   "cell_type": "markdown",
   "id": "a702e89c-4eb5-4ad6-9aa6-35a3ea044988",
   "metadata": {},
   "source": [
    "11. Mention a few built-in functions in python?"
   ]
  },
  {
   "cell_type": "raw",
   "id": "375983dc-4606-4bcd-b00a-93f7c6e02abb",
   "metadata": {},
   "source": [
    "1 - print()\n",
    "2 - len()\n",
    "3 - range()\n",
    "4 - type()\n",
    "5 - input()\n",
    "6 - str()\n",
    "7 - int()\n",
    "8 - float()\n",
    "9 - abs()\n",
    "10 - sum()"
   ]
  },
  {
   "cell_type": "markdown",
   "id": "101e15ad-1037-40c3-9860-baa0ea14c6ae",
   "metadata": {},
   "source": [
    "12. What is the maximum possible length of an identifier in Python?"
   ]
  },
  {
   "cell_type": "raw",
   "id": "d95a2b9b-9b52-461b-bd84-3734c57308ab",
   "metadata": {},
   "source": [
    "In Python, the maximum possible length of an identifier (i.e., a variable, function, or class name) is not specified.\n",
    "However, it is recommended to keep the length of identifiers reasonable to improve code readability."
   ]
  },
  {
   "cell_type": "markdown",
   "id": "8d7976fc-a2cb-4dfc-8517-fd3f22d9ae0b",
   "metadata": {},
   "source": [
    "13. What are the benefits of using Python?"
   ]
  },
  {
   "cell_type": "raw",
   "id": "2d91197f-923f-40b8-92b6-978c4ad4b895",
   "metadata": {},
   "source": [
    "Python is a popular programming language that offers many benefits to programmers and organizations. Here are some of the main \n",
    "benefits of using Python:\n",
    "    \n",
    "1 - Easy to learn: Python is a simple, easy-to-learn language with a clear and concise syntax. Its syntax is similar to English\n",
    "language, which makes it very easy to read and write code.\n",
    "2 - Large community and resources: Python has a large community of developers who contribute to its development and support its\n",
    "users. There is a wealth of resources available online, including documentation, tutorials, and libraries.\n",
    "3 - Versatile and flexible: Python is a versatile language that can be used for a wide range of applications, from web \n",
    "development and data analysis to artificial intelligence and scientific computing.\n",
    "4 - Cross-platform compatibility: Python can be used on many different operating systems, including Windows, macOS, and Linux, \n",
    "making it a portable language that can be used in different environments.\n",
    "5 - Efficient and high performance: Python has a built-in interpreter that can execute code quickly and efficiently, making it \n",
    "suitable for large-scale projects and complex applications.\n"
   ]
  },
  {
   "cell_type": "markdown",
   "id": "919e6868-312a-4591-bf7a-d3fcfd8a3258",
   "metadata": {},
   "source": [
    "14. How is memory managed in Python?"
   ]
  },
  {
   "cell_type": "raw",
   "id": "76bf7e04-50bd-44db-b4d6-fd246db67d3b",
   "metadata": {},
   "source": [
    "In Python, memory management is handled automatically by the interpreter. Python uses a technique called \"garbage collection\" \n",
    "to automatically free up memory that is no longer needed by the program. This means that developers do not need to worry about memory management and can focus on writing their code."
   ]
  },
  {
   "cell_type": "markdown",
   "id": "74203f67-6176-4f18-9afe-60a992e71895",
   "metadata": {},
   "source": [
    "15. How to install Python on Windows and set path variables?"
   ]
  },
  {
   "cell_type": "raw",
   "id": "ed3c7e69-d1da-46c4-bc2d-1c024d21017c",
   "metadata": {},
   "source": [
    "Here are the steps to install Python on Windows and set path variables:\n",
    "\n",
    "1 - Download the latest version of Python from the official Python website (https://www.python.org/downloads/windows/). Choose the appropriate version for your system (32-bit or 64-bit) and download the installer.\n",
    "\n",
    "2 - Run the installer and follow the prompts to install Python on your system. Make sure to select the option to add Python to the system path during installation.\n",
    "\n",
    "3 - Once the installation is complete, open the Start menu and search for \"Environment Variables\". Click on \"Edit the system environment variables\" to open the System Properties window.\n",
    "\n",
    "4 - Click on the \"Environment Variables\" button to open the Environment Variables window. Under \"System Variables\", scroll down and find the \"Path\" variable.\n",
    "\n",
    "5 - Click on \"Edit\" and then click \"New\". Type \"C:\\Python39\" (or the directory where Python is installed) and click \"OK\".\n",
    "\n",
    "6 - Click \"OK\" on all windows to save the changes.\n",
    "\n",
    "7 - To test that Python is installed correctly, open a command prompt and type \"python\". You should see the Python interactive shell open.\n",
    "\n",
    "That's it! You have successfully installed Python on Windows and set the path variables. Now you can start writing and running Python code on your system."
   ]
  },
  {
   "cell_type": "markdown",
   "id": "a90514f0-caaa-4d87-9d28-07999cb2e279",
   "metadata": {},
   "source": [
    "16. Is indentation required in python?"
   ]
  },
  {
   "cell_type": "raw",
   "id": "5ef52caf-efd6-4197-9d81-5f5d445ed779",
   "metadata": {},
   "source": [
    "Yes, indentation is required in Python. In fact, it is a critical part of the Python syntax and is used to define code blocks. In Python, code blocks are defined by their level of indentation rather than by curly braces or keywords such as \"begin\" and \"end\" as in other programming languages."
   ]
  }
 ],
 "metadata": {
  "kernelspec": {
   "display_name": "Python 3 (ipykernel)",
   "language": "python",
   "name": "python3"
  },
  "language_info": {
   "codemirror_mode": {
    "name": "ipython",
    "version": 3
   },
   "file_extension": ".py",
   "mimetype": "text/x-python",
   "name": "python",
   "nbconvert_exporter": "python",
   "pygments_lexer": "ipython3",
   "version": "3.10.8"
  }
 },
 "nbformat": 4,
 "nbformat_minor": 5
}
