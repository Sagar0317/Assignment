{
 "cells": [
  {
   "cell_type": "markdown",
   "id": "b05bad81-8e8e-466e-a10b-84079c5a2d72",
   "metadata": {},
   "source": [
    "Q1. Which keyword is used to create a function? Create a function to return a list of odd numbers in the\n",
    "range of 1 to 25."
   ]
  },
  {
   "cell_type": "raw",
   "id": "7adef31d-7b03-4e12-880b-1dbd773b0817",
   "metadata": {},
   "source": [
    "The keyword \"def\" is used in Python to define a function."
   ]
  },
  {
   "cell_type": "code",
   "execution_count": 1,
   "id": "6bb2159f-e460-45c5-a066-3becc29d2706",
   "metadata": {},
   "outputs": [
    {
     "name": "stdout",
     "output_type": "stream",
     "text": [
      "[1, 3, 5, 7, 9, 11, 13, 15, 17, 19, 21, 23, 25]\n"
     ]
    }
   ],
   "source": [
    "def get_odd_numbers():\n",
    "    odd_numbers = []\n",
    "    for num in range(1, 26):\n",
    "        if num % 2 != 0:\n",
    "            odd_numbers.append(num)\n",
    "    return odd_numbers\n",
    "\n",
    "# Call the function and store the result in a variable\n",
    "result = get_odd_numbers()\n",
    "\n",
    "# Print the list of odd numbers\n",
    "print(result)\n"
   ]
  },
  {
   "cell_type": "markdown",
   "id": "3bb1c2c2-c6dc-4506-acdf-94b0eacea604",
   "metadata": {},
   "source": [
    "Q2. Why *args and **kwargs is used in some functions? Create a function each for *args and **kwargs\n",
    "to demonstrate their use."
   ]
  },
  {
   "cell_type": "raw",
   "id": "d2c7ff60-9d0f-425b-804e-4ac50e430c76",
   "metadata": {},
   "source": [
    "In Python, *args and **kwargs are special syntax that can be used in function definitions to allow the function to accept a variable number of arguments."
   ]
  },
  {
   "cell_type": "code",
   "execution_count": 3,
   "id": "f8e8985f-e20a-4160-a045-39c5785c695a",
   "metadata": {},
   "outputs": [
    {
     "name": "stdout",
     "output_type": "stream",
     "text": [
      "(1, 2, 3, 4, 5)\n",
      "('a', 'b', 'c')\n"
     ]
    }
   ],
   "source": [
    "def print_args(*args):\n",
    "    print(args)\n",
    "\n",
    "print_args(1, 2, 3, 4, 5)  \n",
    "print_args('a', 'b', 'c')  \n"
   ]
  },
  {
   "cell_type": "code",
   "execution_count": 4,
   "id": "c1a81747-b74a-474a-9e5c-db24ecd92ffb",
   "metadata": {},
   "outputs": [
    {
     "name": "stdout",
     "output_type": "stream",
     "text": [
      "{'a': 1, 'b': 2, 'c': 3}\n",
      "{'name': 'Alice', 'age': 30}\n"
     ]
    }
   ],
   "source": [
    "def print_kwargs(**kwargs):\n",
    "    print(kwargs)\n",
    "\n",
    "print_kwargs(a=1, b=2, c=3)  \n",
    "print_kwargs(name='Alice', age=30)  \n"
   ]
  },
  {
   "cell_type": "markdown",
   "id": "71176f0c-71ee-47a4-9a97-5d3bb23f3797",
   "metadata": {},
   "source": [
    "Q3. What is an iterator in python? Name the method used to initialise the iterator object and the method\n",
    "used for iteration. Use these methods to print the first five elements of the given list [2, 4, 6, 8, 10, 12, 14,\n",
    "16, 18, 20]."
   ]
  },
  {
   "cell_type": "raw",
   "id": "b4996955-dbc7-4f84-93a5-8a3994033101",
   "metadata": {},
   "source": [
    "An iterator in Python is an object that implements the iterator protocol, which consists of the methods __iter__() and __next__()."
   ]
  },
  {
   "cell_type": "code",
   "execution_count": 5,
   "id": "ba6d43aa-1e23-4436-bd20-9a10cc76b476",
   "metadata": {},
   "outputs": [
    {
     "name": "stdout",
     "output_type": "stream",
     "text": [
      "2\n",
      "4\n",
      "6\n",
      "8\n",
      "10\n"
     ]
    }
   ],
   "source": [
    "# Define a list\n",
    "my_list = [2, 4, 6, 8, 10, 12, 14, 16, 18, 20]\n",
    "\n",
    "# Create an iterator object using iter()\n",
    "my_iterator = iter(my_list)\n",
    "\n",
    "# Use next() to retrieve the next value from the iterator\n",
    "# and print the first five elements\n",
    "for i in range(5):\n",
    "    print(next(my_iterator))\n"
   ]
  },
  {
   "cell_type": "markdown",
   "id": "f3464300-d4f8-4bde-a544-cf4d1eec9891",
   "metadata": {},
   "source": [
    "Q4. What is a generator function in python? Why yield keyword is used? Give an example of a generator\n",
    "function.\n"
   ]
  },
  {
   "cell_type": "raw",
   "id": "53893b70-e311-40d5-95a2-e0901fde6d0a",
   "metadata": {},
   "source": [
    "A generator function in Python is a special type of function that uses the yield keyword instead of the return keyword to produce a sequence of values. When a generator function is called, it returns a generator object, which can be used to iterate over the values one at a time, on-demand, using the next() function. The key difference between a regular function and a generator function is that a generator function does not execute its body immediately, but only when its values are iterated over.\n",
    "\n",
    "The yield keyword is used in generator functions to produce a value and temporarily suspend the function's execution state, preserving its local variables and the position of the next statement to be executed. The function's execution can be resumed later from where it left off, allowing the generator to produce a sequence of values over time, without the need to store all the values in memory at once. This makes generators memory-efficient and suitable for producing large sequences of values, especially when the values are generated on-the-fly or when memory is limited."
   ]
  },
  {
   "cell_type": "code",
   "execution_count": 6,
   "id": "466f79f0-6c5f-4bde-88fb-5c950351d070",
   "metadata": {},
   "outputs": [
    {
     "name": "stdout",
     "output_type": "stream",
     "text": [
      "0\n",
      "2\n",
      "4\n",
      "6\n",
      "8\n"
     ]
    }
   ],
   "source": [
    "def generate_even_numbers(limit):\n",
    "    num = 0\n",
    "    while num < limit:\n",
    "        yield num\n",
    "        num += 2\n",
    "\n",
    "# Create a generator object\n",
    "even_numbers_gen = generate_even_numbers(10)\n",
    "\n",
    "# Iterate over the generator and print the even numbers\n",
    "for num in even_numbers_gen:\n",
    "    print(num)\n"
   ]
  },
  {
   "cell_type": "markdown",
   "id": "ef66f9ae-6679-480b-804a-6b0079caad25",
   "metadata": {},
   "source": [
    "Q5. Create a generator function for prime numbers less than 1000. Use the next() method to print the\n",
    "first 20 prime numbers."
   ]
  },
  {
   "cell_type": "code",
   "execution_count": 7,
   "id": "83102b73-1f8b-4ae0-bb7f-7e906f5b00a8",
   "metadata": {},
   "outputs": [
    {
     "name": "stdout",
     "output_type": "stream",
     "text": [
      "2\n",
      "3\n",
      "5\n",
      "7\n",
      "11\n",
      "13\n",
      "17\n",
      "19\n",
      "23\n",
      "29\n",
      "31\n",
      "37\n",
      "41\n",
      "43\n",
      "47\n",
      "53\n",
      "59\n",
      "61\n",
      "67\n",
      "71\n"
     ]
    }
   ],
   "source": [
    "def generate_prime_numbers():\n",
    "    num = 2\n",
    "    while True:\n",
    "        if is_prime(num):\n",
    "            yield num\n",
    "        num += 1\n",
    "\n",
    "def is_prime(n):\n",
    "    if n <= 1:\n",
    "        return False\n",
    "    elif n <= 3:\n",
    "        return True\n",
    "    elif n % 2 == 0 or n % 3 == 0:\n",
    "        return False\n",
    "    i = 5\n",
    "    while i * i <= n:\n",
    "        if n % i == 0 or n % (i + 2) == 0:\n",
    "            return False\n",
    "        i += 6\n",
    "    return True\n",
    "\n",
    "# Create a generator object\n",
    "prime_numbers_gen = generate_prime_numbers()\n",
    "\n",
    "# Print the first 20 prime numbers using next()\n",
    "for i in range(20):\n",
    "    print(next(prime_numbers_gen))\n"
   ]
  },
  {
   "cell_type": "markdown",
   "id": "ab55281a-a9f4-4214-ad0a-d98d05e48d13",
   "metadata": {},
   "source": [
    "Q6. Write a python program to print the first 10 Fibonacci numbers using a while loop."
   ]
  },
  {
   "cell_type": "code",
   "execution_count": 8,
   "id": "834ed834-bcef-40bd-8f1d-377fe656b164",
   "metadata": {},
   "outputs": [
    {
     "name": "stdout",
     "output_type": "stream",
     "text": [
      "0\n",
      "1\n",
      "1\n",
      "2\n",
      "3\n",
      "5\n",
      "8\n",
      "13\n",
      "21\n",
      "34\n"
     ]
    }
   ],
   "source": [
    "# Function to generate Fibonacci numbers\n",
    "def generate_fibonacci_numbers(n):\n",
    "    fib = [0, 1]  # Start with first two numbers in the sequence\n",
    "    while len(fib) < n:\n",
    "        next_num = fib[-1] + fib[-2]  # Compute next Fibonacci number\n",
    "        fib.append(next_num)  # Add it to the list\n",
    "    return fib\n",
    "\n",
    "# Call the function to generate the first 10 Fibonacci numbers\n",
    "fib_numbers = generate_fibonacci_numbers(10)\n",
    "\n",
    "# Print the Fibonacci numbers\n",
    "for num in fib_numbers:\n",
    "    print(num)\n"
   ]
  },
  {
   "cell_type": "markdown",
   "id": "01a90d84-754c-4964-a6a6-92e75cc7532d",
   "metadata": {},
   "source": [
    "Q7. Write a List Comprehension to iterate through the given string: ‘pwskills’.\n",
    "Expected output: ['p', 'w', 's', 'k', 'i', 'l', 'l', 's']"
   ]
  },
  {
   "cell_type": "code",
   "execution_count": 9,
   "id": "2b038355-3ab3-47fd-9e20-e21181af29d0",
   "metadata": {},
   "outputs": [
    {
     "name": "stdout",
     "output_type": "stream",
     "text": [
      "['p', 'w', 's', 'k', 'i', 'l', 'l', 's']\n"
     ]
    }
   ],
   "source": [
    "string = 'pwskills'\n",
    "result = [char for char in string]\n",
    "print(result)\n"
   ]
  },
  {
   "cell_type": "markdown",
   "id": "0068c70e-118f-490f-a92c-5d09622fc3d2",
   "metadata": {},
   "source": [
    "Q8. Write a python program to check whether a given number is Palindrome or not using a while loop."
   ]
  },
  {
   "cell_type": "code",
   "execution_count": 10,
   "id": "537f9a22-0b43-4161-83ff-b49f0f641352",
   "metadata": {},
   "outputs": [
    {
     "name": "stdin",
     "output_type": "stream",
     "text": [
      "Enter a number:  3\n"
     ]
    },
    {
     "name": "stdout",
     "output_type": "stream",
     "text": [
      "3 is a palindrome number.\n"
     ]
    }
   ],
   "source": [
    "# Function to check if a number is palindrome\n",
    "def is_palindrome(num):\n",
    "    original_num = num\n",
    "    reversed_num = 0\n",
    "\n",
    "    while num > 0:\n",
    "        digit = num % 10\n",
    "        reversed_num = reversed_num * 10 + digit\n",
    "        num = num // 10\n",
    "\n",
    "    if original_num == reversed_num:\n",
    "        return True\n",
    "    else:\n",
    "        return False\n",
    "\n",
    "# Input a number from the user\n",
    "num = int(input(\"Enter a number: \"))\n",
    "\n",
    "# Call the function to check if the number is palindrome or not\n",
    "if is_palindrome(num):\n",
    "    print(num, \"is a palindrome number.\")\n",
    "else:\n",
    "    print(num, \"is not a palindrome number.\")\n"
   ]
  },
  {
   "cell_type": "markdown",
   "id": "319624e6-135d-4a57-9066-4f554fc6b9e2",
   "metadata": {},
   "source": [
    "Q9. Write a code to print odd numbers from 1 to 100 using list comprehension."
   ]
  },
  {
   "cell_type": "code",
   "execution_count": 11,
   "id": "a2b06eaa-4aea-4efd-9a18-ee9262b524c9",
   "metadata": {},
   "outputs": [
    {
     "name": "stdout",
     "output_type": "stream",
     "text": [
      "[1, 3, 5, 7, 9, 11, 13, 15, 17, 19, 21, 23, 25, 27, 29, 31, 33, 35, 37, 39, 41, 43, 45, 47, 49, 51, 53, 55, 57, 59, 61, 63, 65, 67, 69, 71, 73, 75, 77, 79, 81, 83, 85, 87, 89, 91, 93, 95, 97, 99]\n"
     ]
    }
   ],
   "source": [
    "# List comprehension to generate numbers from 1 to 100\n",
    "numbers = list(range(1, 101))\n",
    "\n",
    "# List comprehension to filter out odd numbers\n",
    "odd_numbers = [num for num in numbers if num % 2 != 0]\n",
    "\n",
    "# Print the odd numbers\n",
    "print(odd_numbers)\n"
   ]
  },
  {
   "cell_type": "code",
   "execution_count": null,
   "id": "bea5e058-d45a-49ea-89c8-4ca472279458",
   "metadata": {},
   "outputs": [],
   "source": []
  }
 ],
 "metadata": {
  "kernelspec": {
   "display_name": "Python 3 (ipykernel)",
   "language": "python",
   "name": "python3"
  },
  "language_info": {
   "codemirror_mode": {
    "name": "ipython",
    "version": 3
   },
   "file_extension": ".py",
   "mimetype": "text/x-python",
   "name": "python",
   "nbconvert_exporter": "python",
   "pygments_lexer": "ipython3",
   "version": "3.10.8"
  }
 },
 "nbformat": 4,
 "nbformat_minor": 5
}
