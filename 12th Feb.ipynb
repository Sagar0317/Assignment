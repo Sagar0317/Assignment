{
 "cells": [
  {
   "cell_type": "markdown",
   "id": "cd41ed5a-bd3d-436a-a0bb-eafc497d88ef",
   "metadata": {},
   "source": [
    "Q1. What is an Exception in python? Write the difference between Exceptions and Syntax errors."
   ]
  },
  {
   "cell_type": "raw",
   "id": "8df2e06e-df94-45f1-b02f-4dead3752ac9",
   "metadata": {},
   "source": [
    "Exception in Python:\n",
    "An exception in Python is an event or condition that disrupts the normal flow of a program's execution. When an exceptional event occurs, Python raises an exception, which can be caught and handled by the programmer to deal with unexpected or erroneous situations. Exceptions are Python's way of reporting and handling errors during program execution, making it possible to write robust and fault-tolerant code.\n",
    "\n",
    "Difference between Exceptions and Syntax Errors:\n",
    "\n",
    "Nature of Error:\n",
    "\n",
    "Exceptions: Exceptions occur during the runtime of a program and are typically related to logical errors, external factors, or exceptional conditions that can't be determined at compile time.\n",
    "Syntax Errors: Syntax errors, also known as parsing errors, occur during the compilation of the code. They are caused by violations of the Python syntax rules, making the code invalid.\n",
    "Timing of Detection:\n",
    "\n",
    "Exceptions: Exceptional conditions are detected at runtime when the code is executing. They can be anticipated and handled.\n",
    "Syntax Errors: Syntax errors are detected at the time the code is parsed and compiled before the program begins to run. The code with syntax errors will not execute.\n",
    "Handling Mechanism:\n",
    "\n",
    "Exceptions: Exceptions can be caught and handled using try-except blocks, allowing the program to recover gracefully from errors or take appropriate actions.\n",
    "Syntax Errors: Syntax errors cannot be caught or handled within the program because they prevent the program from running in the first place. You need to fix syntax errors before you can execute the code.\n",
    "Examples:\n",
    "\n",
    "Exceptions: Examples of exceptions include ZeroDivisionError, ValueError, and FileNotFoundError. These occur due to runtime issues like dividing by zero, attempting to convert an invalid data type, or trying to open a non-existent file.\n",
    "Syntax Errors: Examples of syntax errors include missing colons, incorrect indentation, and typos in variable or function names. These issues prevent the code from being compiled and executed.\n",
    "Here's a simple example to illustrate the difference:"
   ]
  },
  {
   "cell_type": "raw",
   "id": "f872470f-a53a-4874-9e67-1b2304351f0d",
   "metadata": {},
   "source": [
    "# Syntax Error: Missing colon after the if statement\n",
    "if x > 5  # This is a syntax error\n",
    "    print(\"x is greater than 5\")\n",
    "\n",
    "# Exception: Division by zero\n",
    "y = 0\n",
    "result = 10 / y  # This is a runtime exception (ZeroDivisionError)\n"
   ]
  },
  {
   "cell_type": "markdown",
   "id": "576a24a3-1edd-4707-86cb-0c7017e842d5",
   "metadata": {},
   "source": [
    "Q2. What happens when an exception is not handled? Explain with an example."
   ]
  },
  {
   "cell_type": "raw",
   "id": "1fa34d8d-426a-46d0-b497-1479951bdf87",
   "metadata": {},
   "source": [
    "When an exception is not handled, it will propagate up the call stack until it's caught and handled by an appropriate exception handler or until it reaches the top level of the program. If the exception is not caught at any level, it will result in the termination of the program, and an error message describing the unhandled exception will be displayed to the user.\n",
    "\n",
    "Here's an example to illustrate what happens when an exception is not handled:"
   ]
  },
  {
   "cell_type": "raw",
   "id": "77f1c49d-7837-44f9-b3b1-7cc8984019a7",
   "metadata": {},
   "source": [
    "def divide(x, y):\n",
    "    return x / y\n",
    "\n",
    "try:\n",
    "    result = divide(10, 0)  # This will raise a ZeroDivisionError\n",
    "except ValueError:\n",
    "    print(\"A ValueError occurred.\")\n"
   ]
  },
  {
   "cell_type": "raw",
   "id": "a90d4d45-11d2-4dd2-ab64-366df6fecc63",
   "metadata": {},
   "source": [
    "In this example, we have a function divide that attempts to divide a number by another number. When we call divide(10, 0), it tries to perform a division by zero, which raises a ZeroDivisionError. We have a try-except block to catch this exception, but notice that we're looking for a ValueError, not a ZeroDivisionError.\n",
    "\n",
    "Since we're not catching the correct exception (i.e., ZeroDivisionError), the program will not enter the except block, and the exception will propagate up the call stack. If no other part of the program catches the exception, the program will terminate, and Python will display an error message similar to this:"
   ]
  },
  {
   "cell_type": "raw",
   "id": "80a8d908-079f-4e9f-9a78-d9c187e0094d",
   "metadata": {},
   "source": [
    "ZeroDivisionError: division by zero\n"
   ]
  },
  {
   "cell_type": "raw",
   "id": "3658b754-d1fa-4e33-8173-59c660a9d456",
   "metadata": {},
   "source": [
    "In this case, the exception is not handled, and the program crashes with an error message, which may not be user-friendly. It's crucial to handle exceptions appropriately to ensure the program's robustness and to provide meaningful error messages or take alternative actions when errors occur."
   ]
  },
  {
   "cell_type": "markdown",
   "id": "5fca4cd1-90b8-468c-a73e-172ea7c0bd09",
   "metadata": {},
   "source": [
    "Q3. Which Python statements are used to catch and handle exceptions? Explain with an example."
   ]
  },
  {
   "cell_type": "raw",
   "id": "cb27acc4-e9ed-41b8-8396-b0a62121a74d",
   "metadata": {},
   "source": [
    "In Python, you can catch and handle exceptions using the try and except statements. The try block contains the code that may raise an exception, and the except block specifies how to handle the exception if it occurs. Here's the basic structure:"
   ]
  },
  {
   "cell_type": "raw",
   "id": "46e57fd0-3554-441c-bbd6-cdc5eb8554b4",
   "metadata": {},
   "source": [
    "try:\n",
    "    # Code that may raise an exception\n",
    "    # ...\n",
    "except ExceptionType:\n",
    "    # Code to handle the exception\n",
    "    # ...\n"
   ]
  },
  {
   "cell_type": "raw",
   "id": "4dc60bb5-52ae-432f-8e36-8e4b3850d582",
   "metadata": {},
   "source": [
    "The try block contains the code that you want to monitor for exceptions.\n",
    "The except block specifies what to do if an exception of the specified ExceptionType occurs.\n",
    "Here's an example:"
   ]
  },
  {
   "cell_type": "raw",
   "id": "ac7cb098-3342-4bf4-b9ff-eb6c3ca93a84",
   "metadata": {},
   "source": [
    "try:\n",
    "    num = int(input(\"Enter a number: \"))\n",
    "    result = 10 / num\n",
    "except ZeroDivisionError:\n",
    "    print(\"Division by zero is not allowed.\")\n",
    "except ValueError:\n",
    "    print(\"Invalid input. Please enter a valid number.\")\n",
    "else:\n",
    "    print(\"Result:\", result)\n"
   ]
  },
  {
   "cell_type": "raw",
   "id": "5aabf0dd-7508-4bec-bc78-f7efb3156e3b",
   "metadata": {},
   "source": [
    "In this example:\n",
    "\n",
    "The try block takes user input, attempts to convert it to an integer, and performs a division operation.\n",
    "If a ZeroDivisionError occurs (division by zero), it is caught and handled by the first except block, which prints an error message.\n",
    "If a ValueError occurs (invalid input that cannot be converted to an integer), it is caught and handled by the second except block, which also prints an error message.\n",
    "If no exceptions occur, the else block is executed and prints the result of the division.\n",
    "You can use multiple except blocks to catch and handle different types of exceptions that may occur in your code. You can also use a generic except block without specifying an exception type to catch and handle any exception that is not caught by the previous except blocks. However, it's generally better to be specific and catch only the exceptions you expect and know how to handle."
   ]
  },
  {
   "cell_type": "markdown",
   "id": "2f6cc8d6-ad5f-483a-85c7-1e5b83a250d0",
   "metadata": {},
   "source": [
    "Q4. Explain with an example:\n",
    "\n",
    "a. try and else\n",
    "b. finally\n",
    "c. raise"
   ]
  },
  {
   "cell_type": "raw",
   "id": "0a5e775b-7e9d-42af-aaf3-276a196e9fec",
   "metadata": {},
   "source": [
    "Certainly, let's go through examples for each of the following concepts in Python: try with else, finally, and raise.\n",
    "\n",
    "a. try and else:\n",
    "The try and else blocks are used to handle exceptions, but the else block is executed only if no exceptions occur within the try block. It is used for code that should run when no exceptions are raised."
   ]
  },
  {
   "cell_type": "raw",
   "id": "de3fa376-76cc-43c1-a551-5ba9aec4dd21",
   "metadata": {},
   "source": [
    "try:\n",
    "    num = int(input(\"Enter a number: \"))\n",
    "    result = 10 / num\n",
    "except ZeroDivisionError:\n",
    "    print(\"Division by zero is not allowed.\")\n",
    "except ValueError:\n",
    "    print(\"Invalid input. Please enter a valid number.\")\n",
    "else:\n",
    "    print(\"Result:\", result)\n"
   ]
  },
  {
   "cell_type": "raw",
   "id": "15f1d839-4410-41d5-84f1-cc67924aa6e8",
   "metadata": {},
   "source": [
    "In this example, if no exceptions (e.g., ZeroDivisionError or ValueError) occur, the code in the else block will execute, printing the result. If an exception occurs, the code in the else block will be skipped.\n",
    "\n",
    "b. finally:\n",
    "The finally block is used to execute code regardless of whether an exception occurs or not. It is often used for cleanup tasks, such as closing files or releasing resources, to ensure that the cleanup happens even if an exception is raised."
   ]
  },
  {
   "cell_type": "raw",
   "id": "ff7851dd-e991-4605-975c-1cf668c7f179",
   "metadata": {},
   "source": [
    "try:\n",
    "    file = open(\"example.txt\", \"r\")\n",
    "    content = file.read()\n",
    "except FileNotFoundError:\n",
    "    print(\"The file was not found.\")\n",
    "else:\n",
    "    print(\"Content of the file:\")\n",
    "    print(content)\n",
    "finally:\n",
    "    file.close()  # This will execute whether an exception occurred or not\n"
   ]
  },
  {
   "cell_type": "raw",
   "id": "a3f886ba-180a-41e7-b23e-2602d09712be",
   "metadata": {},
   "source": [
    "In this example, the finally block is used to ensure that the file is closed properly, whether the file was successfully opened and read or an exception occurred.\n",
    "\n",
    "c. raise:\n",
    "The raise statement is used to raise an exception explicitly in your code. You can use it to trigger specific exceptions based on certain conditions in your program.\n",
    "\n",
    "def calculate_division(x, y):\n",
    "    if y == 0:\n",
    "        raise ZeroDivisionError(\"Division by zero is not allowed\")\n",
    "    return x / y\n",
    "\n",
    "try:\n",
    "    result = calculate_division(10, 0)\n",
    "except ZeroDivisionError as e:\n",
    "    print(f\"An exception occurred: {e}\")\n"
   ]
  },
  {
   "cell_type": "markdown",
   "id": "00ad4627-ca0e-486e-b625-368c99833bb7",
   "metadata": {},
   "source": [
    "Q5. What are Custom Exceptions in python? Why do we need Custom Exceptions? Explain with an example"
   ]
  },
  {
   "cell_type": "raw",
   "id": "79089d51-426b-4596-b08f-42da5f8e492e",
   "metadata": {},
   "source": [
    "Custom Exceptions in Python are user-defined exception classes that allow you to create and raise your own exceptions in your code. While Python provides a variety of built-in exception types for common error scenarios (e.g., ValueError, ZeroDivisionError, FileNotFoundError), there are situations where you may need to define and use your own exceptions to handle application-specific error conditions.\n",
    "\n",
    "Reasons for Custom Exceptions:\n",
    "\n",
    "Application-Specific Errors: Custom exceptions allow you to represent application-specific error conditions that may not be adequately covered by Python's built-in exceptions. This provides a way to handle errors that are unique to your program.\n",
    "\n",
    "Improved Code Readability: By creating custom exceptions with meaningful names and hierarchies, your code becomes more readable and self-documenting. When you raise and catch custom exceptions, it's easier to understand the intent of your code.\n",
    "\n",
    "Centralized Exception Handling: Custom exceptions enable you to centralize error handling logic for specific situations, making it easier to manage and maintain your codebase.\n",
    "\n",
    "Modular Code: Custom exceptions promote modularity by separating error-handling code from the main application logic. This can make your code cleaner and more maintainable.\n",
    "\n",
    "Here's an example of creating and using a custom exception in Python:"
   ]
  },
  {
   "cell_type": "raw",
   "id": "c5d669e2-f294-461e-8a31-0dc24b02898e",
   "metadata": {},
   "source": [
    "class NegativeValueError(Exception):\n",
    "    def __init__(self, value):\n",
    "        self.value = value\n",
    "        super().__init__(f\"Negative values are not allowed: {value}\")\n",
    "\n",
    "def calculate_square_root(x):\n",
    "    if x < 0:\n",
    "        raise NegativeValueError(x)\n",
    "    return x ** 0.5\n",
    "\n",
    "try:\n",
    "    result = calculate_square_root(-4)\n",
    "except NegativeValueError as e:\n",
    "    print(f\"An exception occurred: {e}\")\n",
    "else:\n",
    "    print(f\"Square root: {result}\")\n"
   ]
  },
  {
   "cell_type": "raw",
   "id": "3834b658-9de5-41eb-abad-9e0525a60e27",
   "metadata": {},
   "source": [
    "In this example, we define a custom exception class NegativeValueError that inherits from the base Exception class. The calculate_square_root function raises this custom exception if the input value is negative. When the custom exception is caught, it provides a more meaningful error message.\n",
    "\n",
    "Using custom exceptions helps improve the clarity of your code and makes it easier to handle exceptional conditions specific to your application."
   ]
  },
  {
   "cell_type": "markdown",
   "id": "9f1882fa-7dda-45eb-8b0f-c2f59f17c50c",
   "metadata": {},
   "source": [
    "Q6. Create a custom exception class. Use this class to handle an exception."
   ]
  },
  {
   "cell_type": "raw",
   "id": "094177d3-65dc-45d7-a575-280efa0eb776",
   "metadata": {},
   "source": [
    "# Custom exception class\n",
    "class InvalidInputError(Exception):\n",
    "    def __init__(self, value):\n",
    "        self.value = value\n",
    "        super().__init__(f\"Invalid input: {value}\")\n",
    "\n",
    "# Function that raises the custom exception\n",
    "def calculate_square_root(x):\n",
    "    if x < 0:\n",
    "        raise InvalidInputError(x)\n",
    "    return x ** 0.5\n",
    "\n",
    "# Using the custom exception\n",
    "try:\n",
    "    result = calculate_square_root(-4)\n",
    "except InvalidInputError as e:\n",
    "    print(f\"An exception occurred: {e}\")\n",
    "else:\n",
    "    print(f\"Square root: {result}\")\n"
   ]
  },
  {
   "cell_type": "raw",
   "id": "a1fe24c9-fe59-49c9-abee-061ba400fefb",
   "metadata": {},
   "source": [
    "In this example, we define a custom exception class called InvalidInputError. It inherits from the base Exception class and has an __init__ method to provide a custom error message when the exception is raised.\n",
    "\n",
    "The calculate_square_root function raises the InvalidInputError if the input value is negative. When the negative value is passed, the custom exception is caught, and the error message is printed. If a non-negative value is passed, the square root is calculated and printed.\n",
    "\n",
    "Using custom exceptions like this allows you to handle specific error scenarios in your code and provide meaningful error messages to make debugging and error handling more effective."
   ]
  },
  {
   "cell_type": "code",
   "execution_count": null,
   "id": "542a0249-6764-45e2-98f4-cd975d645b60",
   "metadata": {},
   "outputs": [],
   "source": []
  }
 ],
 "metadata": {
  "kernelspec": {
   "display_name": "Python 3 (ipykernel)",
   "language": "python",
   "name": "python3"
  },
  "language_info": {
   "codemirror_mode": {
    "name": "ipython",
    "version": 3
   },
   "file_extension": ".py",
   "mimetype": "text/x-python",
   "name": "python",
   "nbconvert_exporter": "python",
   "pygments_lexer": "ipython3",
   "version": "3.10.8"
  }
 },
 "nbformat": 4,
 "nbformat_minor": 5
}
